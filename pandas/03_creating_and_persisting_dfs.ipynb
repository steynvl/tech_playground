{
 "cells": [
  {
   "cell_type": "markdown",
   "id": "208cb1d7-15fd-4e7c-9737-fdeea0c573c3",
   "metadata": {},
   "source": [
    "## Not much of value to write down."
   ]
  },
  {
   "cell_type": "code",
   "execution_count": null,
   "id": "66198b6e-c974-454c-bf4b-9ff27a7905bc",
   "metadata": {},
   "outputs": [],
   "source": []
  }
 ],
 "metadata": {
  "kernelspec": {
   "display_name": "Python 3 (ipykernel)",
   "language": "python",
   "name": "python3"
  },
  "language_info": {
   "codemirror_mode": {
    "name": "ipython",
    "version": 3
   },
   "file_extension": ".py",
   "mimetype": "text/x-python",
   "name": "python",
   "nbconvert_exporter": "python",
   "pygments_lexer": "ipython3",
   "version": "3.8.11"
  }
 },
 "nbformat": 4,
 "nbformat_minor": 5
}
